{
 "cells": [
  {
   "cell_type": "markdown",
   "id": "bfc76d8b-d054-4994-a129-dcbdc110b22a",
   "metadata": {},
   "source": [
    "### Step 1: Create the .ssh directory if it doesn't exist\n",
    "        - mkdir -p ~/.ssh"
   ]
  },
  {
   "cell_type": "markdown",
   "id": "1d0cdb0c-3bdc-4d97-9d94-2561a73b4960",
   "metadata": {},
   "source": [
    "### Step 2: Generate SSH key for the DPSharma-AI GitHub account\n",
    "        - ssh-keygen -t rsa -b 4096 -C \"deviprasad.sharma@jaipur.manipal.edu\" -f ~/.ssh/id_rsa_DPSharma-AI\n",
    "#### Note: *Press Enter to proceed without setting a passphrase (or set one if desired)*\n"
   ]
  },
  {
   "cell_type": "markdown",
   "id": "50563f25-eae0-4dba-9d77-a6024d0812a9",
   "metadata": {},
   "source": [
    "### Step 3: Generate SSH key for the dpsharma15 GitHub account\n",
    "        - ssh-keygen -t rsa -b 4096 -C \"dps158@gmail.com\" -f ~/.ssh/id_rsa_dpsharma15\n",
    "#### Note: *Press Enter to proceed without setting a passphrase (or set one if desired)*"
   ]
  },
  {
   "cell_type": "markdown",
   "id": "e79455ad-8aa5-4631-80a9-919f566ff60f",
   "metadata": {},
   "source": [
    "### Step 4: Start the SSH agent\n",
    "        - eval \"$(ssh-agent -s)\""
   ]
  },
  {
   "cell_type": "markdown",
   "id": "9de52a3c-6c83-46b6-a2f8-7adb6d2ae8e7",
   "metadata": {},
   "source": [
    "### Step 5: Add the SSH keys to the SSH agent\n",
    "        - ssh-add ~/.ssh/id_rsa_DPSharma-AI\n",
    "        - ssh-add ~/.ssh/id_rsa_dpsharma15"
   ]
  },
  {
   "cell_type": "markdown",
   "id": "aaefa89d-8918-4889-93ca-7b5db2b65692",
   "metadata": {},
   "source": [
    "### Step 6a: Create or edit the SSH config file\n",
    "###### Open the config file with Notepad (or any text editor). \n",
    "        - notepad ~/.ssh/config"
   ]
  },
  {
   "cell_type": "markdown",
   "id": "63d57102-c614-47d7-a42c-dbecda3e886e",
   "metadata": {},
   "source": [
    "### Step 6b: Add SSH configurations for both GitHub accounts,Paste the following configuration into the file:                   \n",
    "\n",
    "#### DPSharma-AI GitHub account\n",
    "```text\n",
    "#### DPSharma-AI GitHub account\n",
    "Host github-DPSharma-AI<br>\n",
    "        HostName github.com<br>\n",
    "        User git<br>\n",
    "        IdentityFile ~/.ssh/id_rsa_DPSharma-AI<br>\n",
    "\n",
    "\n",
    "#### dpsharma15 GitHub account\n",
    "Host github-dpsharma15</br>\n",
    "        HostName github.com</br>\n",
    "        User git</br>\n",
    "        IdentityFile ~/.ssh/id_rsa_dpsharma15</br>\n",
    "\n",
    "# Note: Save and close the file in Notepad and make sure this file should not have any extension."
   ]
  },
  {
   "cell_type": "markdown",
   "id": "56a976be-fa1f-46cf-a6d0-4744fc7502cb",
   "metadata": {},
   "source": [
    "### Step 7: Copy SSH public keys to the respective GitHub accounts\n",
    "\n",
    "#### Step 7a : Display the public key for DPSharma-AI\n",
    "            - cat ~/.ssh/id_rsa_DPSharma-AI.pub\n",
    "#### Step 7b : Display the public key for dpsharma15\n",
    "            - cat ~/.ssh/id_rsa_dpsharma15.pub\n",
    "            \n",
    "```text\n",
    "#  Copy the output of each command and add the keys to the respective GitHub accounts:\n",
    "#1. Go to GitHub settings for each account\n",
    "#2. Navigate to SSH and GPG keys\n",
    "#3. Click \"New SSH key\" and paste the public key\n"
   ]
  },
  {
   "cell_type": "markdown",
   "id": "dcb611df-e72a-4821-b6ac-65b9b4f0fe48",
   "metadata": {},
   "source": [
    "### Step 8: Verify SSH connection for both accounts\n",
    "#### Test the connection for DPSharma-AI\n",
    "            - ssh -T git@github-DPSharma-AI\n",
    "\n",
    "#### Test the connection for dpsharma15\n",
    "            - ssh -T git@github-dpsharma15\n"
   ]
  },
  {
   "cell_type": "markdown",
   "id": "a46c9f77-3907-4f0f-8e90-9113c5f442bb",
   "metadata": {},
   "source": [
    "### Step 9: Add remote repositories for each account to your local repo\n",
    "\n",
    "#### Navigate to your local repository\n",
    "            - cd path/to/your/local/repo\n",
    "\n",
    "#### Add remote for DPSharma-AI account\n",
    "            - git remote add origin git@github-DPSharma-AI:DPSharma-AI/Tutorial_oficial.git\n",
    "\n",
    "#### Add remote for dpsharma15 account\n",
    "            - git remote add origin-dpsharma15 git@github-dpsharma15:dpsharma15/Tutorial_Local.git\n"
   ]
  },
  {
   "cell_type": "markdown",
   "id": "74eeef62-ccda-4824-be0c-b531c3100b43",
   "metadata": {},
   "source": [
    "### Step 10: Push to the remote repositories\n",
    "#### Push to the DPSharma-AI repository\n",
    "            - git push origin master\n",
    "\n",
    "#### Push to the dpsharma15 repository\n",
    "            - git push origin-dpsharma15 master"
   ]
  },
  {
   "cell_type": "markdown",
   "id": "9fc38583-e720-435c-99f8-0b2b7a0daa62",
   "metadata": {},
   "source": [
    "### Step 11: Pull from the remote repositories\n",
    "#### Pull from the DPSharma-AI repository\n",
    "            - git pull origin master\n",
    "\n",
    "#### Pull from the dpsharma15 repository\n",
    "            - git pull origin-dpsharma15 master\n"
   ]
  },
  {
   "cell_type": "code",
   "execution_count": null,
   "id": "2462ba36-7985-47e6-90a6-3f2dca817008",
   "metadata": {},
   "outputs": [],
   "source": []
  }
 ],
 "metadata": {
  "kernelspec": {
   "display_name": "Python 3 (ipykernel)",
   "language": "python",
   "name": "python3"
  },
  "language_info": {
   "codemirror_mode": {
    "name": "ipython",
    "version": 3
   },
   "file_extension": ".py",
   "mimetype": "text/x-python",
   "name": "python",
   "nbconvert_exporter": "python",
   "pygments_lexer": "ipython3",
   "version": "3.11.7"
  }
 },
 "nbformat": 4,
 "nbformat_minor": 5
}
